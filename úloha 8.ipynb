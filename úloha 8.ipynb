{
 "cells": [
  {
   "cell_type": "code",
   "execution_count": 11,
   "metadata": {},
   "outputs": [],
   "source": [
    "def forward_derivate(f, x0, h):\n",
    "    return (f(x0+h) - f(x0))/h\n",
    "\n",
    "def backward_derivate(f, x0, h):\n",
    "    return (f(x0) - f(x0-h))/h\n",
    "\n",
    "def central_derivate(f, x0, h):\n",
    "    return (f(x0+h) - f(x0-h))/(2*h)\n",
    "\n",
    "def funkce(x): return x**5 - 3*x**3 + 5\n",
    "\n",
    "x0 = 1  # bod ve kterém chci zjistit derivaci\n",
    "h = 0.01  # krok"
   ]
  },
  {
   "cell_type": "code",
   "execution_count": 16,
   "metadata": {},
   "outputs": [
    {
     "name": "stdout",
     "output_type": "stream",
     "text": [
      "Bez adaptivního kroku: -3.9892949900000474, s adaptivním krokem: -3.99899299499884\n",
      "Bez adaptivního kroku: -4.00930498999994, s adaptivním krokem: -4.0009930049991205\n",
      "Bez adaptivního kroku: -3.9992999899999937, s adaptivním krokem: -3.9999929999989803\n"
     ]
    }
   ],
   "source": [
    "adaptive_step = float(input(\"Vložte adaptivní krok: \"))  # adaptivni krok\n",
    "\n",
    "dopredna = forward_derivate(funkce, x0, h)\n",
    "zpetna = backward_derivate(funkce, x0, h)\n",
    "centralni = central_derivate(funkce, x0, h)\n",
    "\n",
    "funkce_dopredna_adaptive = forward_derivate(funkce, x0, adaptive_step)\n",
    "funkce_zpetna_adaptive = backward_derivate(funkce, x0, adaptive_step)\n",
    "funkce_centralni_adaptive = central_derivate(funkce, x0, adaptive_step)\n",
    "\n",
    "print(f'Bez adaptivního kroku: {dopredna}, s adaptivním krokem: {funkce_dopredna_adaptive}')\n",
    "print(f'Bez adaptivního kroku: {zpetna}, s adaptivním krokem: {funkce_zpetna_adaptive}')\n",
    "print(f'Bez adaptivního kroku: {centralni}, s adaptivním krokem: {funkce_centralni_adaptive}')"
   ]
  }
 ],
 "metadata": {
  "kernelspec": {
   "display_name": "Python 3",
   "language": "python",
   "name": "python3"
  },
  "language_info": {
   "codemirror_mode": {
    "name": "ipython",
    "version": 3
   },
   "file_extension": ".py",
   "mimetype": "text/x-python",
   "name": "python",
   "nbconvert_exporter": "python",
   "pygments_lexer": "ipython3",
   "version": "3.9.13"
  },
  "orig_nbformat": 4
 },
 "nbformat": 4,
 "nbformat_minor": 2
}
