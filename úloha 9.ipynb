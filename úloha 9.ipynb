{
 "cells": [
  {
   "cell_type": "code",
   "execution_count": 1,
   "metadata": {},
   "outputs": [],
   "source": [
    "# Načtení knihoven\n",
    "import numpy as np\n",
    "import scipy.integrate"
   ]
  },
  {
   "cell_type": "code",
   "execution_count": 2,
   "metadata": {},
   "outputs": [],
   "source": [
    "fce1 = lambda x: 3*x**3 - 5*x**2 + 5*x - 8\n",
    "fce2 = lambda x: x + np.exp(2*x) - 5\n",
    "fce3 = lambda x: np.cos(x+9)\n",
    "\n",
    "a = -2 # spodní mez\n",
    "b = 4 # horní mez\n",
    "dx = 0.1"
   ]
  },
  {
   "cell_type": "code",
   "execution_count": 3,
   "metadata": {},
   "outputs": [],
   "source": [
    "def analytic(f, a, b):\n",
    "    x = scipy.integrate.quad(f, a, b)\n",
    "    return(x[0])\n",
    "\n",
    "def scipy_trapezoid(f, a, b, dx):\n",
    "    x = np.arange(a, b+dx, dx)\n",
    "    y = f(x)\n",
    "    return(scipy.integrate.trapezoid(y, x))\n",
    "\n",
    "def scipy_simpson(f, a, b, dx):\n",
    "    x = np.arange(a, b+dx, dx)\n",
    "    y = f(x)\n",
    "    return(scipy.integrate.simpson(y, x))\n",
    "\n",
    "def scipy_romberg(f, a, b):\n",
    "    return(scipy.integrate.romberg(f, a, b))\n",
    "\n",
    "def scipy_gaussian(f, a, b):\n",
    "    return(scipy.integrate.quadrature(f, a, b)[0])"
   ]
  },
  {
   "cell_type": "code",
   "execution_count": 4,
   "metadata": {},
   "outputs": [
    {
     "name": "stdout",
     "output_type": "stream",
     "text": [
      "Výsledek analitické funkce je: 41.99999999999999\n",
      "Rozdíl oproti analytické je: -0.04000000000067416\n",
      "Rozdíl oproti analytické je: -7.105427357601002e-15\n",
      "Rozdíl oproti analytické je: -6.750155989720952e-13\n",
      "Rozdíl oproti analytické je: -7.105427357601002e-14\n"
     ]
    }
   ],
   "source": [
    "# Funkce 1\n",
    "ana = analytic(fce1, a, b)\n",
    "fn1 = scipy_trapezoid(fce1, a, b, dx)\n",
    "fn2 = scipy_romberg(fce1, a, b)\n",
    "fn3 = scipy_simpson(fce1, a, b, dx)\n",
    "fn4 = scipy_gaussian(fce1, a, b)\n",
    "print(f\"Výsledek analitické funkce je: {ana}\")\n",
    "print(f\"Rozdíl oproti analytické je: {ana - fn1}\")\n",
    "print(f\"Rozdíl oproti analytické je: {ana - fn2}\")\n",
    "print(f\"Rozdíl oproti analytické je: {ana - fn3}\")\n",
    "print(f\"Rozdíl oproti analytické je: {ana - fn4}\")"
   ]
  },
  {
   "cell_type": "code",
   "execution_count": 5,
   "metadata": {},
   "outputs": [
    {
     "name": "stdout",
     "output_type": "stream",
     "text": [
      "Výsledek analitické funkce je: 1466.46983570142\n",
      "Rozdíl oproti analytické je: -4.964923781778907\n",
      "Rozdíl oproti analytické je: -1.1050360626541078e-10\n",
      "Rozdíl oproti analytické je: -0.013185796000470873\n",
      "Rozdíl oproti analytické je: 1.4607212506234646e-07\n"
     ]
    }
   ],
   "source": [
    "# Funkce 2\n",
    "ana = analytic(fce2, a, b)\n",
    "fn1 = scipy_trapezoid(fce2, a, b, dx)\n",
    "fn2 = scipy_romberg(fce2, a, b)\n",
    "fn3 = scipy_simpson(fce2, a, b, dx)\n",
    "fn4 = scipy_gaussian(fce2, a, b)\n",
    "print(f\"Výsledek analitické funkce je: {ana}\")\n",
    "print(f\"Rozdíl oproti analytické je: {ana - fn1}\")\n",
    "print(f\"Rozdíl oproti analytické je: {ana - fn2}\")\n",
    "print(f\"Rozdíl oproti analytické je: {ana - fn3}\")\n",
    "print(f\"Rozdíl oproti analytické je: {ana - fn4}\")"
   ]
  },
  {
   "cell_type": "code",
   "execution_count": 6,
   "metadata": {},
   "outputs": [
    {
     "name": "stdout",
     "output_type": "stream",
     "text": [
      "Výsledek analitické funkce je: -0.23681956189214845\n",
      "Rozdíl oproti analytické je: -0.00019738253435444553\n",
      "Rozdíl oproti analytické je: -8.975042931069765e-13\n",
      "Rozdíl oproti analytické je: 1.3172320931231773e-07\n",
      "Rozdíl oproti analytické je: 1.5884793480580583e-12\n"
     ]
    }
   ],
   "source": [
    "# Funkce 3\n",
    "ana = analytic(fce3, a, b)\n",
    "fn1 = scipy_trapezoid(fce3, a, b, dx)\n",
    "fn2 = scipy_romberg(fce3, a, b)\n",
    "fn3 = scipy_simpson(fce3, a, b, dx)\n",
    "fn4 = scipy_gaussian(fce3, a, b)\n",
    "print(f\"Výsledek analitické funkce je: {ana}\")\n",
    "print(f\"Rozdíl oproti analytické je: {ana - fn1}\")\n",
    "print(f\"Rozdíl oproti analytické je: {ana - fn2}\")\n",
    "print(f\"Rozdíl oproti analytické je: {ana - fn3}\")\n",
    "print(f\"Rozdíl oproti analytické je: {ana - fn4}\")"
   ]
  }
 ],
 "metadata": {
  "kernelspec": {
   "display_name": "Python 3",
   "language": "python",
   "name": "python3"
  },
  "language_info": {
   "codemirror_mode": {
    "name": "ipython",
    "version": 3
   },
   "file_extension": ".py",
   "mimetype": "text/x-python",
   "name": "python",
   "nbconvert_exporter": "python",
   "pygments_lexer": "ipython3",
   "version": "3.9.13"
  },
  "orig_nbformat": 4
 },
 "nbformat": 4,
 "nbformat_minor": 2
}
